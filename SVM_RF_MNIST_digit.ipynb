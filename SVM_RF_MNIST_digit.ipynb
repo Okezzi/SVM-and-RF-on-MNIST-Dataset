{
 "cells": [
  {
   "cell_type": "markdown",
   "metadata": {},
   "source": [
    "PERFORMANCE COMPARISON BETWEEN SUPPORT VECTOR MACHINES AND RANDOM FOREST FOR MNIST DIGIT RECOGNITION"
   ]
  },
  {
   "cell_type": "code",
   "execution_count": 39,
   "metadata": {},
   "outputs": [],
   "source": [
    "# We import important libraries and data needed for this program\n",
    "import numpy as np\n",
    "import pandas as pd\n",
    "import matplotlib.pyplot as plt\n",
    "import seaborn as sns\n",
    "from sklearn.svm import SVC\n",
    "from sklearn.ensemble import RandomForestClassifier\n",
    "from sklearn.model_selection import GridSearchCV\n",
    "from sklearn.metrics import confusion_matrix,classification_report\n",
    "\n",
    "# the next line reads the digits from scikit learn\n",
    "from sklearn.datasets import load_digits\n",
    "\n",
    "digits_data = load_digits()  # store data in a variable called digits_data"
   ]
  },
  {
   "cell_type": "code",
   "execution_count": 7,
   "metadata": {},
   "outputs": [
    {
     "name": "stdout",
     "output_type": "stream",
     "text": [
      "<class 'sklearn.utils.Bunch'>\n"
     ]
    }
   ],
   "source": [
    "# we check the type of data\n",
    "print(type(digits_data))"
   ]
  },
  {
   "cell_type": "code",
   "execution_count": 8,
   "metadata": {},
   "outputs": [
    {
     "name": "stdout",
     "output_type": "stream",
     "text": [
      "dict_keys(['data', 'target', 'frame', 'feature_names', 'target_names', 'images', 'DESCR'])\n"
     ]
    }
   ],
   "source": [
    "#data is in form of a dictionary so we access it through keys and indexing\n",
    "print(digits_data.keys())"
   ]
  },
  {
   "cell_type": "code",
   "execution_count": 9,
   "metadata": {},
   "outputs": [
    {
     "name": "stdout",
     "output_type": "stream",
     "text": [
      "['pixel_0_0', 'pixel_0_1', 'pixel_0_2', 'pixel_0_3', 'pixel_0_4', 'pixel_0_5', 'pixel_0_6', 'pixel_0_7', 'pixel_1_0', 'pixel_1_1', 'pixel_1_2', 'pixel_1_3', 'pixel_1_4', 'pixel_1_5', 'pixel_1_6', 'pixel_1_7', 'pixel_2_0', 'pixel_2_1', 'pixel_2_2', 'pixel_2_3', 'pixel_2_4', 'pixel_2_5', 'pixel_2_6', 'pixel_2_7', 'pixel_3_0', 'pixel_3_1', 'pixel_3_2', 'pixel_3_3', 'pixel_3_4', 'pixel_3_5', 'pixel_3_6', 'pixel_3_7', 'pixel_4_0', 'pixel_4_1', 'pixel_4_2', 'pixel_4_3', 'pixel_4_4', 'pixel_4_5', 'pixel_4_6', 'pixel_4_7', 'pixel_5_0', 'pixel_5_1', 'pixel_5_2', 'pixel_5_3', 'pixel_5_4', 'pixel_5_5', 'pixel_5_6', 'pixel_5_7', 'pixel_6_0', 'pixel_6_1', 'pixel_6_2', 'pixel_6_3', 'pixel_6_4', 'pixel_6_5', 'pixel_6_6', 'pixel_6_7', 'pixel_7_0', 'pixel_7_1', 'pixel_7_2', 'pixel_7_3', 'pixel_7_4', 'pixel_7_5', 'pixel_7_6', 'pixel_7_7']\n"
     ]
    }
   ],
   "source": [
    "print(list(digits_data['feature_names']))"
   ]
  },
  {
   "cell_type": "code",
   "execution_count": 10,
   "metadata": {},
   "outputs": [
    {
     "name": "stdout",
     "output_type": "stream",
     "text": [
      ".. _digits_dataset:\n",
      "\n",
      "Optical recognition of handwritten digits dataset\n",
      "--------------------------------------------------\n",
      "\n",
      "**Data Set Characteristics:**\n",
      "\n",
      "    :Number of Instances: 1797\n",
      "    :Number of Attributes: 64\n",
      "    :Attribute Information: 8x8 image of integer pixels in the range 0..16.\n",
      "    :Missing Attribute Values: None\n",
      "    :Creator: E. Alpaydin (alpaydin '@' boun.edu.tr)\n",
      "    :Date: July; 1998\n",
      "\n",
      "This is a copy of the test set of the UCI ML hand-written digits datasets\n",
      "https://archive.ics.uci.edu/ml/datasets/Optical+Recognition+of+Handwritten+Digits\n",
      "\n",
      "The data set contains images of hand-written digits: 10 classes where\n",
      "each class refers to a digit.\n",
      "\n",
      "Preprocessing programs made available by NIST were used to extract\n",
      "normalized bitmaps of handwritten digits from a preprinted form. From a\n",
      "total of 43 people, 30 contributed to the training set and different 13\n",
      "to the test set. 32x32 bitmaps are divided into nonoverlapping blocks of\n",
      "4x4 and the number of on pixels are counted in each block. This generates\n",
      "an input matrix of 8x8 where each element is an integer in the range\n",
      "0..16. This reduces dimensionality and gives invariance to small\n",
      "distortions.\n",
      "\n",
      "For info on NIST preprocessing routines, see M. D. Garris, J. L. Blue, G.\n",
      "T. Candela, D. L. Dimmick, J. Geist, P. J. Grother, S. A. Janet, and C.\n",
      "L. Wilson, NIST Form-Based Handprint Recognition System, NISTIR 5469,\n",
      "1994.\n",
      "\n",
      ".. topic:: References\n",
      "\n",
      "  - C. Kaynak (1995) Methods of Combining Multiple Classifiers and Their\n",
      "    Applications to Handwritten Digit Recognition, MSc Thesis, Institute of\n",
      "    Graduate Studies in Science and Engineering, Bogazici University.\n",
      "  - E. Alpaydin, C. Kaynak (1998) Cascading Classifiers, Kybernetika.\n",
      "  - Ken Tang and Ponnuthurai N. Suganthan and Xi Yao and A. Kai Qin.\n",
      "    Linear dimensionalityreduction using relevance weighted LDA. School of\n",
      "    Electrical and Electronic Engineering Nanyang Technological University.\n",
      "    2005.\n",
      "  - Claudio Gentile. A New Approximate Maximal Margin Classification\n",
      "    Algorithm. NIPS. 2000.\n",
      "\n"
     ]
    }
   ],
   "source": [
    "# Lets see a description of the entire data\n",
    "print(digits_data['DESCR'])"
   ]
  },
  {
   "cell_type": "code",
   "execution_count": 11,
   "metadata": {},
   "outputs": [
    {
     "name": "stdout",
     "output_type": "stream",
     "text": [
      "[[[ 0.  0.  5. ...  1.  0.  0.]\n",
      "  [ 0.  0. 13. ... 15.  5.  0.]\n",
      "  [ 0.  3. 15. ... 11.  8.  0.]\n",
      "  ...\n",
      "  [ 0.  4. 11. ... 12.  7.  0.]\n",
      "  [ 0.  2. 14. ... 12.  0.  0.]\n",
      "  [ 0.  0.  6. ...  0.  0.  0.]]\n",
      "\n",
      " [[ 0.  0.  0. ...  5.  0.  0.]\n",
      "  [ 0.  0.  0. ...  9.  0.  0.]\n",
      "  [ 0.  0.  3. ...  6.  0.  0.]\n",
      "  ...\n",
      "  [ 0.  0.  1. ...  6.  0.  0.]\n",
      "  [ 0.  0.  1. ...  6.  0.  0.]\n",
      "  [ 0.  0.  0. ... 10.  0.  0.]]\n",
      "\n",
      " [[ 0.  0.  0. ... 12.  0.  0.]\n",
      "  [ 0.  0.  3. ... 14.  0.  0.]\n",
      "  [ 0.  0.  8. ... 16.  0.  0.]\n",
      "  ...\n",
      "  [ 0.  9. 16. ...  0.  0.  0.]\n",
      "  [ 0.  3. 13. ... 11.  5.  0.]\n",
      "  [ 0.  0.  0. ... 16.  9.  0.]]\n",
      "\n",
      " ...\n",
      "\n",
      " [[ 0.  0.  1. ...  1.  0.  0.]\n",
      "  [ 0.  0. 13. ...  2.  1.  0.]\n",
      "  [ 0.  0. 16. ... 16.  5.  0.]\n",
      "  ...\n",
      "  [ 0.  0. 16. ... 15.  0.  0.]\n",
      "  [ 0.  0. 15. ... 16.  0.  0.]\n",
      "  [ 0.  0.  2. ...  6.  0.  0.]]\n",
      "\n",
      " [[ 0.  0.  2. ...  0.  0.  0.]\n",
      "  [ 0.  0. 14. ... 15.  1.  0.]\n",
      "  [ 0.  4. 16. ... 16.  7.  0.]\n",
      "  ...\n",
      "  [ 0.  0.  0. ... 16.  2.  0.]\n",
      "  [ 0.  0.  4. ... 16.  2.  0.]\n",
      "  [ 0.  0.  5. ... 12.  0.  0.]]\n",
      "\n",
      " [[ 0.  0. 10. ...  1.  0.  0.]\n",
      "  [ 0.  2. 16. ...  1.  0.  0.]\n",
      "  [ 0.  0. 15. ... 15.  0.  0.]\n",
      "  ...\n",
      "  [ 0.  4. 16. ... 16.  6.  0.]\n",
      "  [ 0.  8. 16. ... 16.  8.  0.]\n",
      "  [ 0.  1.  8. ... 12.  1.  0.]]]\n"
     ]
    },
    {
     "data": {
      "text/plain": [
       "(1797, 8, 8)"
      ]
     },
     "execution_count": 11,
     "metadata": {},
     "output_type": "execute_result"
    }
   ],
   "source": [
    "# images in the data contain an 8 x 8 matrix of each 1797 hand written digits\n",
    "print(digits_data.images)\n",
    "digits_data.images.shape"
   ]
  },
  {
   "cell_type": "code",
   "execution_count": 12,
   "metadata": {},
   "outputs": [
    {
     "data": {
      "text/plain": [
       "<Figure size 432x288 with 0 Axes>"
      ]
     },
     "metadata": {},
     "output_type": "display_data"
    },
    {
     "data": {
      "image/png": "[encoded data removed]",
      "text/plain": [
       "<Figure size 288x288 with 1 Axes>"
      ]
     },
     "metadata": {
      "needs_background": "light"
     },
     "output_type": "display_data"
    },
    {
     "data": {
      "image/png": "[encoded data removed]",
      "text/plain": [
       "<Figure size 288x288 with 1 Axes>"
      ]
     },
     "metadata": {
      "needs_background": "light"
     },
     "output_type": "display_data"
    },
    {
     "data": {
      "image/png": "[encoded data removed]",
      "text/plain": [
       "<Figure size 288x288 with 1 Axes>"
      ]
     },
     "metadata": {
      "needs_background": "light"
     },
     "output_type": "display_data"
    },
    {
     "data": {
      "image/png": "[encoded data removed]",
      "text/plain": [
       "<Figure size 288x288 with 1 Axes>"
      ]
     },
     "metadata": {
      "needs_background": "light"
     },
     "output_type": "display_data"
    },
    {
     "data": {
      "image/png": "[encoded data removed]",
      "text/plain": [
       "<Figure size 288x288 with 1 Axes>"
      ]
     },
     "metadata": {
      "needs_background": "light"
     },
     "output_type": "display_data"
    },
    {
     "data": {
      "image/png": "[encoded data removed]",
      "text/plain": [
       "<Figure size 288x288 with 1 Axes>"
      ]
     },
     "metadata": {
      "needs_background": "light"
     },
     "output_type": "display_data"
    }
   ],
   "source": [
    "#print out some of the digits in our data\n",
    "for i in range(0,6):\n",
    "    plt.pink()\n",
    "    plt.matshow(digits_data.images[i])"
   ]
  },
  {
   "cell_type": "code",
   "execution_count": 13,
   "metadata": {},
   "outputs": [
    {
     "name": "stdout",
     "output_type": "stream",
     "text": [
      "[[ 0.  0.  5. ...  0.  0.  0.]\n",
      " [ 0.  0.  0. ... 10.  0.  0.]\n",
      " [ 0.  0.  0. ... 16.  9.  0.]\n",
      " ...\n",
      " [ 0.  0.  1. ...  6.  0.  0.]\n",
      " [ 0.  0.  2. ... 12.  0.  0.]\n",
      " [ 0.  0. 10. ... 12.  1.  0.]]\n",
      "(1797, 64)\n"
     ]
    }
   ],
   "source": [
    "# Check the info and size of 'data'\n",
    "print(digits_data['data'])\n",
    "print((digits_data['data']).shape) # tells us no of rows and columns"
   ]
  },
  {
   "cell_type": "markdown",
   "metadata": {},
   "source": [
    "We can observe from the data size that the 1797, 8x8 matrix for each image was reshaped to 1797,64. Each column represents the reshaped pixels for each handwritten- digits. "
   ]
  },
  {
   "cell_type": "code",
   "execution_count": 14,
   "metadata": {},
   "outputs": [
    {
     "name": "stdout",
     "output_type": "stream",
     "text": [
      "[0 1 2 ... 8 9 8]\n",
      "(1797,)\n"
     ]
    }
   ],
   "source": [
    "# Check the info and size of 'target'\n",
    "print(digits_data['target'])\n",
    "print((digits_data['target']).shape) "
   ]
  },
  {
   "cell_type": "markdown",
   "metadata": {},
   "source": [
    "Target contains the label of 1797 digits. Ranges from 0-9"
   ]
  },
  {
   "cell_type": "code",
   "execution_count": 15,
   "metadata": {},
   "outputs": [],
   "source": [
    "# Assign data to X and target to y\n",
    "X = digits_data['data']\n",
    "y = digits_data['target']"
   ]
  },
  {
   "cell_type": "code",
   "execution_count": 16,
   "metadata": {},
   "outputs": [
    {
     "data": {
      "text/html": [
       "<div>\n",
       "<style scoped>\n",
       "    .dataframe tbody tr th:only-of-type {\n",
       "        vertical-align: middle;\n",
       "    }\n",
       "\n",
       "    .dataframe tbody tr th {\n",
       "        vertical-align: top;\n",
       "    }\n",
       "\n",
       "    .dataframe thead th {\n",
       "        text-align: right;\n",
       "    }\n",
       "</style>\n",
       "<table border=\"1\" class=\"dataframe\">\n",
       "  <thead>\n",
       "    <tr style=\"text-align: right;\">\n",
       "      <th></th>\n",
       "      <th>pixel_0_0</th>\n",
       "      <th>pixel_0_1</th>\n",
       "      <th>pixel_0_2</th>\n",
       "      <th>pixel_0_3</th>\n",
       "      <th>pixel_0_4</th>\n",
       "      <th>pixel_0_5</th>\n",
       "      <th>pixel_0_6</th>\n",
       "      <th>pixel_0_7</th>\n",
       "      <th>pixel_1_0</th>\n",
       "      <th>pixel_1_1</th>\n",
       "      <th>...</th>\n",
       "      <th>pixel_6_7</th>\n",
       "      <th>pixel_7_0</th>\n",
       "      <th>pixel_7_1</th>\n",
       "      <th>pixel_7_2</th>\n",
       "      <th>pixel_7_3</th>\n",
       "      <th>pixel_7_4</th>\n",
       "      <th>pixel_7_5</th>\n",
       "      <th>pixel_7_6</th>\n",
       "      <th>pixel_7_7</th>\n",
       "      <th>target</th>\n",
       "    </tr>\n",
       "  </thead>\n",
       "  <tbody>\n",
       "    <tr>\n",
       "      <th>0</th>\n",
       "      <td>0.0</td>\n",
       "      <td>0.0</td>\n",
       "      <td>5.0</td>\n",
       "      <td>13.0</td>\n",
       "      <td>9.0</td>\n",
       "      <td>1.0</td>\n",
       "      <td>0.0</td>\n",
       "      <td>0.0</td>\n",
       "      <td>0.0</td>\n",
       "      <td>0.0</td>\n",
       "      <td>...</td>\n",
       "      <td>0.0</td>\n",
       "      <td>0.0</td>\n",
       "      <td>0.0</td>\n",
       "      <td>6.0</td>\n",
       "      <td>13.0</td>\n",
       "      <td>10.0</td>\n",
       "      <td>0.0</td>\n",
       "      <td>0.0</td>\n",
       "      <td>0.0</td>\n",
       "      <td>0</td>\n",
       "    </tr>\n",
       "    <tr>\n",
       "      <th>1</th>\n",
       "      <td>0.0</td>\n",
       "      <td>0.0</td>\n",
       "      <td>0.0</td>\n",
       "      <td>12.0</td>\n",
       "      <td>13.0</td>\n",
       "      <td>5.0</td>\n",
       "      <td>0.0</td>\n",
       "      <td>0.0</td>\n",
       "      <td>0.0</td>\n",
       "      <td>0.0</td>\n",
       "      <td>...</td>\n",
       "      <td>0.0</td>\n",
       "      <td>0.0</td>\n",
       "      <td>0.0</td>\n",
       "      <td>0.0</td>\n",
       "      <td>11.0</td>\n",
       "      <td>16.0</td>\n",
       "      <td>10.0</td>\n",
       "      <td>0.0</td>\n",
       "      <td>0.0</td>\n",
       "      <td>1</td>\n",
       "    </tr>\n",
       "    <tr>\n",
       "      <th>2</th>\n",
       "      <td>0.0</td>\n",
       "      <td>0.0</td>\n",
       "      <td>0.0</td>\n",
       "      <td>4.0</td>\n",
       "      <td>15.0</td>\n",
       "      <td>12.0</td>\n",
       "      <td>0.0</td>\n",
       "      <td>0.0</td>\n",
       "      <td>0.0</td>\n",
       "      <td>0.0</td>\n",
       "      <td>...</td>\n",
       "      <td>0.0</td>\n",
       "      <td>0.0</td>\n",
       "      <td>0.0</td>\n",
       "      <td>0.0</td>\n",
       "      <td>3.0</td>\n",
       "      <td>11.0</td>\n",
       "      <td>16.0</td>\n",
       "      <td>9.0</td>\n",
       "      <td>0.0</td>\n",
       "      <td>2</td>\n",
       "    </tr>\n",
       "    <tr>\n",
       "      <th>3</th>\n",
       "      <td>0.0</td>\n",
       "      <td>0.0</td>\n",
       "      <td>7.0</td>\n",
       "      <td>15.0</td>\n",
       "      <td>13.0</td>\n",
       "      <td>1.0</td>\n",
       "      <td>0.0</td>\n",
       "      <td>0.0</td>\n",
       "      <td>0.0</td>\n",
       "      <td>8.0</td>\n",
       "      <td>...</td>\n",
       "      <td>0.0</td>\n",
       "      <td>0.0</td>\n",
       "      <td>0.0</td>\n",
       "      <td>7.0</td>\n",
       "      <td>13.0</td>\n",
       "      <td>13.0</td>\n",
       "      <td>9.0</td>\n",
       "      <td>0.0</td>\n",
       "      <td>0.0</td>\n",
       "      <td>3</td>\n",
       "    </tr>\n",
       "    <tr>\n",
       "      <th>4</th>\n",
       "      <td>0.0</td>\n",
       "      <td>0.0</td>\n",
       "      <td>0.0</td>\n",
       "      <td>1.0</td>\n",
       "      <td>11.0</td>\n",
       "      <td>0.0</td>\n",
       "      <td>0.0</td>\n",
       "      <td>0.0</td>\n",
       "      <td>0.0</td>\n",
       "      <td>0.0</td>\n",
       "      <td>...</td>\n",
       "      <td>0.0</td>\n",
       "      <td>0.0</td>\n",
       "      <td>0.0</td>\n",
       "      <td>0.0</td>\n",
       "      <td>2.0</td>\n",
       "      <td>16.0</td>\n",
       "      <td>4.0</td>\n",
       "      <td>0.0</td>\n",
       "      <td>0.0</td>\n",
       "      <td>4</td>\n",
       "    </tr>\n",
       "    <tr>\n",
       "      <th>...</th>\n",
       "      <td>...</td>\n",
       "      <td>...</td>\n",
       "      <td>...</td>\n",
       "      <td>...</td>\n",
       "      <td>...</td>\n",
       "      <td>...</td>\n",
       "      <td>...</td>\n",
       "      <td>...</td>\n",
       "      <td>...</td>\n",
       "      <td>...</td>\n",
       "      <td>...</td>\n",
       "      <td>...</td>\n",
       "      <td>...</td>\n",
       "      <td>...</td>\n",
       "      <td>...</td>\n",
       "      <td>...</td>\n",
       "      <td>...</td>\n",
       "      <td>...</td>\n",
       "      <td>...</td>\n",
       "      <td>...</td>\n",
       "      <td>...</td>\n",
       "    </tr>\n",
       "    <tr>\n",
       "      <th>1792</th>\n",
       "      <td>0.0</td>\n",
       "      <td>0.0</td>\n",
       "      <td>4.0</td>\n",
       "      <td>10.0</td>\n",
       "      <td>13.0</td>\n",
       "      <td>6.0</td>\n",
       "      <td>0.0</td>\n",
       "      <td>0.0</td>\n",
       "      <td>0.0</td>\n",
       "      <td>1.0</td>\n",
       "      <td>...</td>\n",
       "      <td>0.0</td>\n",
       "      <td>0.0</td>\n",
       "      <td>0.0</td>\n",
       "      <td>2.0</td>\n",
       "      <td>14.0</td>\n",
       "      <td>15.0</td>\n",
       "      <td>9.0</td>\n",
       "      <td>0.0</td>\n",
       "      <td>0.0</td>\n",
       "      <td>9</td>\n",
       "    </tr>\n",
       "    <tr>\n",
       "      <th>1793</th>\n",
       "      <td>0.0</td>\n",
       "      <td>0.0</td>\n",
       "      <td>6.0</td>\n",
       "      <td>16.0</td>\n",
       "      <td>13.0</td>\n",
       "      <td>11.0</td>\n",
       "      <td>1.0</td>\n",
       "      <td>0.0</td>\n",
       "      <td>0.0</td>\n",
       "      <td>0.0</td>\n",
       "      <td>...</td>\n",
       "      <td>0.0</td>\n",
       "      <td>0.0</td>\n",
       "      <td>0.0</td>\n",
       "      <td>6.0</td>\n",
       "      <td>16.0</td>\n",
       "      <td>14.0</td>\n",
       "      <td>6.0</td>\n",
       "      <td>0.0</td>\n",
       "      <td>0.0</td>\n",
       "      <td>0</td>\n",
       "    </tr>\n",
       "    <tr>\n",
       "      <th>1794</th>\n",
       "      <td>0.0</td>\n",
       "      <td>0.0</td>\n",
       "      <td>1.0</td>\n",
       "      <td>11.0</td>\n",
       "      <td>15.0</td>\n",
       "      <td>1.0</td>\n",
       "      <td>0.0</td>\n",
       "      <td>0.0</td>\n",
       "      <td>0.0</td>\n",
       "      <td>0.0</td>\n",
       "      <td>...</td>\n",
       "      <td>0.0</td>\n",
       "      <td>0.0</td>\n",
       "      <td>0.0</td>\n",
       "      <td>2.0</td>\n",
       "      <td>9.0</td>\n",
       "      <td>13.0</td>\n",
       "      <td>6.0</td>\n",
       "      <td>0.0</td>\n",
       "      <td>0.0</td>\n",
       "      <td>8</td>\n",
       "    </tr>\n",
       "    <tr>\n",
       "      <th>1795</th>\n",
       "      <td>0.0</td>\n",
       "      <td>0.0</td>\n",
       "      <td>2.0</td>\n",
       "      <td>10.0</td>\n",
       "      <td>7.0</td>\n",
       "      <td>0.0</td>\n",
       "      <td>0.0</td>\n",
       "      <td>0.0</td>\n",
       "      <td>0.0</td>\n",
       "      <td>0.0</td>\n",
       "      <td>...</td>\n",
       "      <td>0.0</td>\n",
       "      <td>0.0</td>\n",
       "      <td>0.0</td>\n",
       "      <td>5.0</td>\n",
       "      <td>12.0</td>\n",
       "      <td>16.0</td>\n",
       "      <td>12.0</td>\n",
       "      <td>0.0</td>\n",
       "      <td>0.0</td>\n",
       "      <td>9</td>\n",
       "    </tr>\n",
       "    <tr>\n",
       "      <th>1796</th>\n",
       "      <td>0.0</td>\n",
       "      <td>0.0</td>\n",
       "      <td>10.0</td>\n",
       "      <td>14.0</td>\n",
       "      <td>8.0</td>\n",
       "      <td>1.0</td>\n",
       "      <td>0.0</td>\n",
       "      <td>0.0</td>\n",
       "      <td>0.0</td>\n",
       "      <td>2.0</td>\n",
       "      <td>...</td>\n",
       "      <td>0.0</td>\n",
       "      <td>0.0</td>\n",
       "      <td>1.0</td>\n",
       "      <td>8.0</td>\n",
       "      <td>12.0</td>\n",
       "      <td>14.0</td>\n",
       "      <td>12.0</td>\n",
       "      <td>1.0</td>\n",
       "      <td>0.0</td>\n",
       "      <td>8</td>\n",
       "    </tr>\n",
       "  </tbody>\n",
       "</table>\n",
       "<p>1797 rows × 65 columns</p>\n",
       "</div>"
      ],
      "text/plain": [
       "      pixel_0_0  pixel_0_1  pixel_0_2  pixel_0_3  pixel_0_4  pixel_0_5  \\\n",
       "0           0.0        0.0        5.0       13.0        9.0        1.0   \n",
       "1           0.0        0.0        0.0       12.0       13.0        5.0   \n",
       "2           0.0        0.0        0.0        4.0       15.0       12.0   \n",
       "3           0.0        0.0        7.0       15.0       13.0        1.0   \n",
       "4           0.0        0.0        0.0        1.0       11.0        0.0   \n",
       "...         ...        ...        ...        ...        ...        ...   \n",
       "1792        0.0        0.0        4.0       10.0       13.0        6.0   \n",
       "1793        0.0        0.0        6.0       16.0       13.0       11.0   \n",
       "1794        0.0        0.0        1.0       11.0       15.0        1.0   \n",
       "1795        0.0        0.0        2.0       10.0        7.0        0.0   \n",
       "1796        0.0        0.0       10.0       14.0        8.0        1.0   \n",
       "\n",
       "      pixel_0_6  pixel_0_7  pixel_1_0  pixel_1_1  ...  pixel_6_7  pixel_7_0  \\\n",
       "0           0.0        0.0        0.0        0.0  ...        0.0        0.0   \n",
       "1           0.0        0.0        0.0        0.0  ...        0.0        0.0   \n",
       "2           0.0        0.0        0.0        0.0  ...        0.0        0.0   \n",
       "3           0.0        0.0        0.0        8.0  ...        0.0        0.0   \n",
       "4           0.0        0.0        0.0        0.0  ...        0.0        0.0   \n",
       "...         ...        ...        ...        ...  ...        ...        ...   \n",
       "1792        0.0        0.0        0.0        1.0  ...        0.0        0.0   \n",
       "1793        1.0        0.0        0.0        0.0  ...        0.0        0.0   \n",
       "1794        0.0        0.0        0.0        0.0  ...        0.0        0.0   \n",
       "1795        0.0        0.0        0.0        0.0  ...        0.0        0.0   \n",
       "1796        0.0        0.0        0.0        2.0  ...        0.0        0.0   \n",
       "\n",
       "      pixel_7_1  pixel_7_2  pixel_7_3  pixel_7_4  pixel_7_5  pixel_7_6  \\\n",
       "0           0.0        6.0       13.0       10.0        0.0        0.0   \n",
       "1           0.0        0.0       11.0       16.0       10.0        0.0   \n",
       "2           0.0        0.0        3.0       11.0       16.0        9.0   \n",
       "3           0.0        7.0       13.0       13.0        9.0        0.0   \n",
       "4           0.0        0.0        2.0       16.0        4.0        0.0   \n",
       "...         ...        ...        ...        ...        ...        ...   \n",
       "1792        0.0        2.0       14.0       15.0        9.0        0.0   \n",
       "1793        0.0        6.0       16.0       14.0        6.0        0.0   \n",
       "1794        0.0        2.0        9.0       13.0        6.0        0.0   \n",
       "1795        0.0        5.0       12.0       16.0       12.0        0.0   \n",
       "1796        1.0        8.0       12.0       14.0       12.0        1.0   \n",
       "\n",
       "      pixel_7_7  target  \n",
       "0           0.0       0  \n",
       "1           0.0       1  \n",
       "2           0.0       2  \n",
       "3           0.0       3  \n",
       "4           0.0       4  \n",
       "...         ...     ...  \n",
       "1792        0.0       9  \n",
       "1793        0.0       0  \n",
       "1794        0.0       8  \n",
       "1795        0.0       9  \n",
       "1796        0.0       8  \n",
       "\n",
       "[1797 rows x 65 columns]"
      ]
     },
     "execution_count": 16,
     "metadata": {},
     "output_type": "execute_result"
    }
   ],
   "source": [
    "# Lets convert our data to a panda DataFrame for easy access to information.\n",
    "digit_df = pd.DataFrame(digits_data['data'], columns = digits_data['feature_names'])\n",
    "digit_df['target'] = digits_data['target']\n",
    "digit_df"
   ]
  },
  {
   "cell_type": "code",
   "execution_count": 17,
   "metadata": {},
   "outputs": [
    {
     "data": {
      "text/plain": [
       "pixel_0_0    0\n",
       "pixel_0_1    0\n",
       "pixel_0_2    0\n",
       "pixel_0_3    0\n",
       "pixel_0_4    0\n",
       "            ..\n",
       "pixel_7_4    0\n",
       "pixel_7_5    0\n",
       "pixel_7_6    0\n",
       "pixel_7_7    0\n",
       "target       0\n",
       "Length: 65, dtype: int64"
      ]
     },
     "execution_count": 17,
     "metadata": {},
     "output_type": "execute_result"
    }
   ],
   "source": [
    "#check that we have no missing info or wrong type in our data\n",
    "digit_df.dtypes\n",
    "digit_df.isnull().sum()"
   ]
  },
  {
   "cell_type": "markdown",
   "metadata": {},
   "source": [
    "### DATA VISUALIZATION"
   ]
  },
  {
   "cell_type": "code",
   "execution_count": 18,
   "metadata": {},
   "outputs": [
    {
     "data": {
      "text/plain": [
       "<AxesSubplot:xlabel='target', ylabel='count'>"
      ]
     },
     "execution_count": 18,
     "metadata": {},
     "output_type": "execute_result"
    },
    {
     "data": {
      "image/png": "[encoded data removed]",
      "text/plain": [
       "<Figure size 432x288 with 1 Axes>"
      ]
     },
     "metadata": {
      "needs_background": "light"
     },
     "output_type": "display_data"
    }
   ],
   "source": [
    "# check to see if we have a balanced number of each digit class\n",
    "sns.countplot(data = digit_df, x = 'target')"
   ]
  },
  {
   "cell_type": "code",
   "execution_count": 19,
   "metadata": {},
   "outputs": [
    {
     "data": {
      "image/png": "[encoded data removed]",
      "text/plain": [
       "<Figure size 432x288 with 1 Axes>"
      ]
     },
     "metadata": {
      "needs_background": "light"
     },
     "output_type": "display_data"
    },
    {
     "data": {
      "image/png": "[encoded data removed]",
      "text/plain": [
       "<Figure size 432x288 with 1 Axes>"
      ]
     },
     "metadata": {
      "needs_background": "light"
     },
     "output_type": "display_data"
    },
    {
     "data": {
      "image/png": "[encoded data removed]",
      "text/plain": [
       "<Figure size 432x288 with 1 Axes>"
      ]
     },
     "metadata": {
      "needs_background": "light"
     },
     "output_type": "display_data"
    },
    {
     "data": {
      "image/png": "[encoded data removed]",
      "text/plain": [
       "<Figure size 432x288 with 1 Axes>"
      ]
     },
     "metadata": {
      "needs_background": "light"
     },
     "output_type": "display_data"
    }
   ],
   "source": [
    "# Plot the distribution of some of our features\n",
    "for i in digit_df.columns[1:5]:\n",
    "    sns.histplot(data=digit_df,x = digit_df[i])\n",
    "    plt.show()"
   ]
  },
  {
   "cell_type": "markdown",
   "metadata": {},
   "source": [
    "our features need to be standardized"
   ]
  },
  {
   "cell_type": "markdown",
   "metadata": {},
   "source": [
    "### Data Preprocessing"
   ]
  },
  {
   "cell_type": "code",
   "execution_count": 21,
   "metadata": {},
   "outputs": [],
   "source": [
    "# we split our X and y data into train and split set\n",
    "\n",
    "from sklearn.model_selection import train_test_split\n",
    "X_trainu,X_testu,y_train,y_test= train_test_split(X,y,test_size=0.3,random_state=123,stratify=y)"
   ]
  },
  {
   "cell_type": "code",
   "execution_count": 22,
   "metadata": {},
   "outputs": [],
   "source": [
    "# Standardize our data using sklearn standard scaler\n",
    "from sklearn.preprocessing import StandardScaler\n",
    "\n",
    "scaler = StandardScaler()\n",
    "scaler.fit(X_trainu)\n",
    "X_train = scaler.transform(X_trainu)\n",
    "X_test = scaler.transform(X_testu)"
   ]
  },
  {
   "cell_type": "code",
   "execution_count": 30,
   "metadata": {},
   "outputs": [
    {
     "data": {
      "image/png": "[encoded data removed]",
      "text/plain": [
       "<Figure size 432x288 with 1 Axes>"
      ]
     },
     "metadata": {
      "needs_background": "light"
     },
     "output_type": "display_data"
    },
    {
     "data": {
      "image/png": "[encoded data removed]",
      "text/plain": [
       "<Figure size 432x288 with 1 Axes>"
      ]
     },
     "metadata": {
      "needs_background": "light"
     },
     "output_type": "display_data"
    },
    {
     "data": {
      "image/png": "[encoded data removed]",
      "text/plain": [
       "<Figure size 432x288 with 1 Axes>"
      ]
     },
     "metadata": {
      "needs_background": "light"
     },
     "output_type": "display_data"
    },
    {
     "data": {
      "image/png": "[encoded data removed]",
      "text/plain": [
       "<Figure size 432x288 with 1 Axes>"
      ]
     },
     "metadata": {
      "needs_background": "light"
     },
     "output_type": "display_data"
    }
   ],
   "source": [
    "# Plot the distribution of some of our features to see the effect of standardization\n",
    "for i in range(2,6):\n",
    "    sns.histplot(data=X_train,x = X_train[:,i])\n",
    "    plt.show()"
   ]
  },
  {
   "cell_type": "markdown",
   "metadata": {},
   "source": [
    "### Build SVM classifier for processed data"
   ]
  },
  {
   "cell_type": "code",
   "execution_count": 28,
   "metadata": {},
   "outputs": [
    {
     "data": {
      "text/plain": [
       "SVC()"
      ]
     },
     "execution_count": 28,
     "metadata": {},
     "output_type": "execute_result"
    }
   ],
   "source": [
    "# First we build our model using the default parameters in the svm classifier\n",
    "from sklearn.svm import SVC\n",
    "svc = SVC()\n",
    "svc.fit(X_train,y_train)"
   ]
  },
  {
   "cell_type": "code",
   "execution_count": 29,
   "metadata": {},
   "outputs": [
    {
     "name": "stdout",
     "output_type": "stream",
     "text": [
      "For default model (c = 1,kernel = rbf):\n",
      "classification accuracy for train set: 0.9968\n",
      "classification error fortrain set is: 0.0032\n",
      "\n",
      "classification accuracy for test set: 0.9852\n",
      "classification error for test set:0.0148\n"
     ]
    }
   ],
   "source": [
    "# we make some predictions with our model\n",
    "y_train_pred1 = svc.predict(X_train)\n",
    "y_test_pred1 = svc.predict(X_test)\n",
    "\n",
    "# we calculate the classifiation accuracy and error using score.\n",
    "class_acc_train = svc.score(X_train,y_train) # accuracy score for training set\n",
    "class_acc_test = svc.score(X_test,y_test) # accuracy score for test set\n",
    "\n",
    "class_err_train = 1-class_acc_train\n",
    "class_err_test = 1 - class_acc_test\n",
    "\n",
    "print('For default model (c = 1,kernel = rbf):\\nclassification accuracy for train set: %.4f\\nclassification error for\\\n",
    "train set is: %.4f\\n\\nclassification accuracy for test set: %.4f\\nclassification error for test set:\\\n",
    "%.4f'%(class_acc_train,class_err_train,class_acc_test,class_err_test))"
   ]
  },
  {
   "cell_type": "code",
   "execution_count": 33,
   "metadata": {},
   "outputs": [
    {
     "name": "stdout",
     "output_type": "stream",
     "text": [
      "              precision    recall  f1-score   support\n",
      "\n",
      "           0       1.00      1.00      1.00        54\n",
      "           1       1.00      0.93      0.96        59\n",
      "           2       0.98      1.00      0.99        52\n",
      "           3       1.00      1.00      1.00        55\n",
      "           4       1.00      1.00      1.00        54\n",
      "           5       0.98      1.00      0.99        54\n",
      "           6       1.00      0.96      0.98        56\n",
      "           7       0.98      0.98      0.98        54\n",
      "           8       0.92      1.00      0.96        48\n",
      "           9       0.98      0.98      0.98        54\n",
      "\n",
      "    accuracy                           0.99       540\n",
      "   macro avg       0.98      0.99      0.99       540\n",
      "weighted avg       0.99      0.99      0.99       540\n",
      "\n"
     ]
    },
    {
     "data": {
      "text/plain": [
       "<AxesSubplot:>"
      ]
     },
     "execution_count": 33,
     "metadata": {},
     "output_type": "execute_result"
    },
    {
     "data": {
      "image/png": "[encoded data removed]",
      "text/plain": [
       "<Figure size 504x504 with 2 Axes>"
      ]
     },
     "metadata": {
      "needs_background": "light"
     },
     "output_type": "display_data"
    }
   ],
   "source": [
    "#import confusion matrix to view our error\n",
    "from sklearn.metrics import classification_report,confusion_matrix\n",
    "print(classification_report(y_test_pred1,y_test))\n",
    "#classification_report(svc,y_test_pred1,y_test)\n",
    "\n",
    "plt.figure(figsize=(7,7))\n",
    "sns.heatmap(confusion_matrix(y_test_pred1,y_test), annot = True)"
   ]
  },
  {
   "cell_type": "markdown",
   "metadata": {},
   "source": [
    "Model has a good accuracy with c = 1 and  RBF kernel. We try to optimize it by trying different values of c"
   ]
  },
  {
   "cell_type": "code",
   "execution_count": 40,
   "metadata": {},
   "outputs": [],
   "source": [
    "# lets create and empty list to store our classification error values for differeent c values\n",
    "\n",
    "list_train =  [] # this will contain list of classification errors for training set\n",
    "list_test = [] # this will contain list of classification errors for test set\n",
    "\n",
    "c_range = np.linspace(0.1,50,100)\n",
    "for c in c_range :\n",
    "    svm = SVC(C=c, kernel='rbf')\n",
    "    svm.fit(X_train,y_train)\n",
    "    y_pred_train = svm.predict(X_train)\n",
    "    y_pred_test = svm.predict(X_test)\n",
    "    list_train.append (1 - svm.score(X_train,y_train))\n",
    "    list_test.append (1 - svm.score(X_test,y_test))"
   ]
  },
  {
   "cell_type": "code",
   "execution_count": 41,
   "metadata": {},
   "outputs": [
    {
     "data": {
      "image/png": "[encoded data removed]",
      "text/plain": [
       "<Figure size 576x432 with 1 Axes>"
      ]
     },
     "metadata": {
      "needs_background": "light"
     },
     "output_type": "display_data"
    }
   ],
   "source": [
    "fig,axes = plt.subplots(1,1,figsize = (8,6))\n",
    "# when p =1\n",
    "axes.plot(c_range,list_train,'-.',label = 'train')\n",
    "axes.plot(c_range,list_test, label = 'test')\n",
    "\n",
    "axes.set_xlabel('C')\n",
    "axes.set_ylabel('classification error')\n",
    "axes.set_title('classification error vs C')\n",
    "axes.legend()\n",
    "plt.tight_layout()"
   ]
  },
  {
   "cell_type": "code",
   "execution_count": 42,
   "metadata": {},
   "outputs": [
    {
     "name": "stdout",
     "output_type": "stream",
     "text": [
      "for RBF Kernel, minimum classification error for test set is 0.0093 and c is 5.0\n"
     ]
    }
   ],
   "source": [
    "# we find the exact value of the minimum classification error for test set and the corrsponding c value\n",
    "min_error1 = min(list_test)\n",
    "c_val1 = list_test.index(min_error1) + 1\n",
    "\n",
    "print('for RBF Kernel, minimum classification error for test set is %.4f and c is %.1f'%(min_error1,c_val1))"
   ]
  },
  {
   "cell_type": "markdown",
   "metadata": {},
   "source": [
    "We repeat same process for Linear, and polynomial kernel"
   ]
  },
  {
   "cell_type": "code",
   "execution_count": 46,
   "metadata": {},
   "outputs": [],
   "source": [
    "# lets create and empty list to store our classification error values for different c and  kernel = linear and polynomial\n",
    "\n",
    "list1_train =  [] # this will contain list of classification errors for training set with linar kernel\n",
    "list1_test = [] # this will contain list of classification errors for test set with linear kenel\n",
    "\n",
    "list2_train = [] # this will contain list of classification errors for training set with polynomial kernel\n",
    "list2_test = [] # this will contain list of classification errors for test set with polynomial kernel\n",
    "\n",
    "c_range = np.linspace(0.01,50,100)\n",
    "for kernel in ['linear', 'poly']:\n",
    "    if kernel == 'linear':\n",
    "        for c in c_range:\n",
    "            svm1 = SVC(C=c,kernel=kernel)\n",
    "            svm1.fit(X_train,y_train)\n",
    "            y_pred_train = svm1.predict(X_train)\n",
    "            y_pred_test = svm1.predict(X_test)\n",
    "            list1_train.append (1 - svm1.score(X_train,y_train))\n",
    "            list1_test.append (1 - svm1.score(X_test,y_test))\n",
    "    else:\n",
    "        for c in c_range:\n",
    "            svm2 = SVC(C=c,kernel=kernel)\n",
    "            svm2.fit(X_train,y_train)\n",
    "            y_pred_train = svm2.predict(X_train)\n",
    "            y_pred_test = svm2.predict(X_test)\n",
    "            list2_train.append (1 - svm2.score(X_train,y_train))\n",
    "            list2_test.append (1 - svm2.score(X_test,y_test))"
   ]
  },
  {
   "cell_type": "code",
   "execution_count": 47,
   "metadata": {},
   "outputs": [
    {
     "data": {
      "image/png": "[encoded data removed]",
      "text/plain": [
       "<Figure size 576x432 with 2 Axes>"
      ]
     },
     "metadata": {
      "needs_background": "light"
     },
     "output_type": "display_data"
    }
   ],
   "source": [
    "fig,axes = plt.subplots(1,2,figsize = (8,6))\n",
    "# when p =1\n",
    "axes[0].plot(c_range,list1_train,'-.',label = 'train')\n",
    "axes[0].plot(c_range,list1_test, label = 'test')\n",
    "\n",
    "# when p = 2\n",
    "axes[1].plot(c_range,list2_train,'-.',label = 'train' )\n",
    "axes[1].plot(c_range,list2_test,label = 'test')\n",
    "\n",
    "axes[0].set_xlabel('C')\n",
    "axes[0].set_ylabel('classification error')\n",
    "axes[0].set_title('Linear')\n",
    "axes[0].legend()\n",
    "\n",
    "axes[1].set_xlabel('C')\n",
    "axes[1].set_ylabel('classification error')\n",
    "axes[1].set_title('polynomial')\n",
    "axes[1].legend()\n",
    "plt.tight_layout()"
   ]
  },
  {
   "cell_type": "code",
   "execution_count": 48,
   "metadata": {},
   "outputs": [
    {
     "name": "stdout",
     "output_type": "stream",
     "text": [
      "For linear, minimum classification error is 0.0204 and c is 1.0\n",
      "\n",
      "For polynomial, minimum classification error is 0.0204 and c is 9.0\n"
     ]
    }
   ],
   "source": [
    "# we find the exact value of the minimum classification error for test set and the corrsponding C for linear and polynomial\n",
    "\n",
    "# for linear \n",
    "\n",
    "min_error1 = min(list1_test)\n",
    "c_val1 = list1_test.index(min_error1) + 1\n",
    "\n",
    "#for polynomial\n",
    "min_error2 = min(list2_test)\n",
    "c_val2 = list2_test.index(min_error2)+1\n",
    "\n",
    "print('For linear, minimum classification error is %.4f and c is %.1f'%(min_error1,c_val1))\n",
    "print('\\nFor polynomial, minimum classification error is %.4f and c is %.1f'%(min_error2,c_val2))"
   ]
  },
  {
   "cell_type": "markdown",
   "metadata": {},
   "source": [
    "We use grid search to further find the optimum accuracy using cross validation"
   ]
  },
  {
   "cell_type": "code",
   "execution_count": 36,
   "metadata": {},
   "outputs": [
    {
     "name": "stdout",
     "output_type": "stream",
     "text": [
      "Fitting 3 folds for each of 300 candidates, totalling 900 fits\n"
     ]
    },
    {
     "data": {
      "text/plain": [
       "GridSearchCV(cv=3, estimator=SVC(),\n",
       "             param_grid=[{'C': array([ 1.        ,  1.49494949,  1.98989899,  2.48484848,  2.97979798,\n",
       "        3.47474747,  3.96969697,  4.46464646,  4.95959596,  5.45454545,\n",
       "        5.94949495,  6.44444444,  6.93939394,  7.43434343,  7.92929293,\n",
       "        8.42424242,  8.91919192,  9.41414141,  9.90909091, 10.4040404 ,\n",
       "       10.8989899 , 11.39393939, 11.88888889, 12.38383838, 12.87878788,\n",
       "       13.37373737, 13.868686...\n",
       "       38.12121212, 38.61616162, 39.11111111, 39.60606061, 40.1010101 ,\n",
       "       40.5959596 , 41.09090909, 41.58585859, 42.08080808, 42.57575758,\n",
       "       43.07070707, 43.56565657, 44.06060606, 44.55555556, 45.05050505,\n",
       "       45.54545455, 46.04040404, 46.53535354, 47.03030303, 47.52525253,\n",
       "       48.02020202, 48.51515152, 49.01010101, 49.50505051, 50.        ]),\n",
       "                          'kernel': ['linear', 'poly', 'rbf']}],\n",
       "             scoring='accuracy', verbose=1)"
      ]
     },
     "execution_count": 36,
     "metadata": {},
     "output_type": "execute_result"
    }
   ],
   "source": [
    "# we implement a gridsearch for deifferent C values and kernel type to find model with the best accuracy.\\\n",
    "#  We have a balanced dataset so accuracy is a good perfromance test.\n",
    "svc = SVC()\n",
    "c_range = np.linspace(1,50,100)\n",
    "parameters = [\n",
    "    {'kernel':['linear','poly','rbf'],'C':c_range}\n",
    "]\n",
    "clf = GridSearchCV(estimator = svc,param_grid=parameters,scoring='accuracy',cv= 3,verbose=1)\n",
    "clf.fit(X_train,y_train)"
   ]
  },
  {
   "cell_type": "code",
   "execution_count": 37,
   "metadata": {},
   "outputs": [
    {
     "name": "stdout",
     "output_type": "stream",
     "text": [
      "Best SVC model for our data is a rbf kernel with \n",
      "c = 2.484848484848485\n",
      "model accuarcy = 0.9907407407407407\n",
      "classification error = 0.0092592592592593\n"
     ]
    }
   ],
   "source": [
    "# check best parameters for our model from gridsearch\n",
    "kernel = clf.best_params_['kernel']\n",
    "C_val = clf.best_params_['C']\n",
    "best_accuracy = clf.score(X_test,y_test)\n",
    "least_error = 1 - best_accuracy\n",
    "\n",
    "print(f'Best SVC model for our data is a {kernel}\\\n",
    " kernel with \\nc = {C_val}\\nmodel accuarcy = {best_accuracy}\\n\\\n",
    "classification error = {least_error}')"
   ]
  },
  {
   "cell_type": "code",
   "execution_count": 40,
   "metadata": {},
   "outputs": [
    {
     "name": "stdout",
     "output_type": "stream",
     "text": [
      "              precision    recall  f1-score   support\n",
      "\n",
      "           0       1.00      1.00      1.00        54\n",
      "           1       1.00      0.98      0.99        56\n",
      "           2       1.00      1.00      1.00        53\n",
      "           3       0.98      1.00      0.99        54\n",
      "           4       1.00      1.00      1.00        54\n",
      "           5       0.98      1.00      0.99        54\n",
      "           6       1.00      0.96      0.98        56\n",
      "           7       0.98      1.00      0.99        53\n",
      "           8       0.98      0.98      0.98        52\n",
      "           9       0.98      0.98      0.98        54\n",
      "\n",
      "    accuracy                           0.99       540\n",
      "   macro avg       0.99      0.99      0.99       540\n",
      "weighted avg       0.99      0.99      0.99       540\n",
      "\n"
     ]
    },
    {
     "data": {
      "text/plain": [
       "<AxesSubplot:>"
      ]
     },
     "execution_count": 40,
     "metadata": {},
     "output_type": "execute_result"
    },
    {
     "data": {
      "image/png": "[encoded data removed]",
      "text/plain": [
       "<Figure size 504x504 with 2 Axes>"
      ]
     },
     "metadata": {
      "needs_background": "light"
     },
     "output_type": "display_data"
    }
   ],
   "source": [
    "#view the classification_report and confusion matrix\n",
    "\n",
    "y_pred_test = clf.predict(X_test)\n",
    "\n",
    "print(classification_report(y_pred_test,y_test))\n",
    "plt.figure(figsize=(7,7))\n",
    "sns.heatmap(confusion_matrix(y_pred_test,y_test), annot = True)"
   ]
  },
  {
   "cell_type": "markdown",
   "metadata": {},
   "source": [
    "### RANDOM FORESTS CLASSIFIER FOR DIGIT RECOGNITION"
   ]
  },
  {
   "cell_type": "markdown",
   "metadata": {},
   "source": [
    "#### We import decision tree classifier and build our model on our normalized dataset"
   ]
  },
  {
   "cell_type": "code",
   "execution_count": 19,
   "metadata": {},
   "outputs": [
    {
     "data": {
      "text/plain": [
       "RandomForestClassifier()"
      ]
     },
     "execution_count": 19,
     "metadata": {},
     "output_type": "execute_result"
    }
   ],
   "source": [
    "#We apply random forest to our dataset in this section and compare performance to SVC\n",
    "\n",
    "#import our randomforest classifier from sklearn ensemble methods ad build a model using default parameters\n",
    "\n",
    "from sklearn.ensemble import RandomForestClassifier\n",
    "rfc = RandomForestClassifier()\n",
    "rfc.fit(X_train,y_train)"
   ]
  },
  {
   "cell_type": "markdown",
   "metadata": {},
   "source": [
    "We examine model performance with default parameeters"
   ]
  },
  {
   "cell_type": "code",
   "execution_count": 20,
   "metadata": {},
   "outputs": [
    {
     "name": "stdout",
     "output_type": "stream",
     "text": [
      "For default parameter (n_estimators=100,criterion=\"gini\", max_depth=None):\n",
      "classification accuracy for train set: 1.0000\n",
      "classification error for    train set is: 0.0000\n",
      "\n",
      "classification accuracy for test set: 0.9833\n",
      "classification error for test set:    0.0167\n"
     ]
    }
   ],
   "source": [
    "# we make some predictions with our model\n",
    "y_train_pred1 = rfc.predict(X_train)\n",
    "y_test_pred1 = rfc.predict(X_test)\n",
    "\n",
    "# we calculate the classifiation accuracy and error using score.\n",
    "class_acc_train = rfc.score(X_train,y_train) # accuracy score for training set\n",
    "class_acc_test = rfc.score(X_test,y_test) # accuracy score for test set\n",
    "\n",
    "class_err_train = 1-class_acc_train\n",
    "class_err_test = 1 - class_acc_test\n",
    "\n",
    "print('For default parameter (n_estimators=100,criterion=\"gini\", max_depth=None):\\nclassification accuracy for train set: %.4f\\nclassification error for\\\n",
    "    train set is: %.4f\\n\\nclassification accuracy for test set: %.4f\\nclassification error for test set:\\\n",
    "    %.4f'%(class_acc_train,class_err_train,class_acc_test,class_err_test))"
   ]
  },
  {
   "cell_type": "markdown",
   "metadata": {},
   "source": [
    "For this model parameters (100 trees, gini criterion and pure leaf nodes i.e tree goes deep unitil each leave nodes are pure), the train accuracy is 100% and test accuracy is 97.78%. Though this is a good model, it might be an overfitted model as indicated by a 100% train accuracy. We try some hyperparameters tuning to increase our test accuracy."
   ]
  },
  {
   "cell_type": "markdown",
   "metadata": {},
   "source": [
    "We compare the performance of differet parameters in the order below:\n",
    "\n",
    "1. Gini vs Entropy for 1 - 100 trees and 'sqrt' feature splitting.\n",
    "2. Gini vs Entropy for 1 - 100 trees and 'log2' feature splitting.\n",
    "3. Gini vs Entropy for 1 - 100 trees and no featue splitting."
   ]
  },
  {
   "cell_type": "code",
   "execution_count": 21,
   "metadata": {},
   "outputs": [],
   "source": [
    "# 1. Gini vs Entropy for 1 - 100 trees and 'sqrt' feature splitting.\n",
    "\n",
    "list1_trainc =  [] # this will contain list of train set classification errors for different no of trees and gini criterion\n",
    "list1_testc = [] # this will contain list of test set classification errors for different no of trees and gini criterion\n",
    "\n",
    "list2_trainc = [] # this will contain list of train set classification errors for different no of trees and entropy criterion\n",
    "list2_testc = [] # this will contain list of test set classification errors for different no of trees and entropy criterion\n",
    "\n",
    "tree_range = np.arange(1,100,1)\n",
    "for n_tree in tree_range:\n",
    "    clf = RandomForestClassifier(n_estimators=n_tree,criterion='gini',max_features=\"sqrt\",random_state=123)\n",
    "    clf.fit(X_train,y_train)\n",
    "    y_pred_train = clf.predict(X_train)\n",
    "    y_pred_test = clf.predict(X_test)\n",
    "    list1_trainc.append (1 - clf.score(X_train,y_train))\n",
    "    list1_testc.append (1 - clf.score(X_test,y_test))\n",
    "    \n",
    "for n_tree in tree_range:\n",
    "    clf = RandomForestClassifier(n_estimators=n_tree,criterion='entropy',max_features=\"sqrt\",random_state=123)\n",
    "    clf.fit(X_train,y_train)\n",
    "    y_pred_train = clf.predict(X_train)\n",
    "    y_pred_test = clf.predict(X_test)\n",
    "    list2_trainc.append (1 - clf.score(X_train,y_train))\n",
    "    list2_testc.append (1 - clf.score(X_test,y_test))"
   ]
  },
  {
   "cell_type": "code",
   "execution_count": 22,
   "metadata": {},
   "outputs": [
    {
     "data": {
      "image/png": "[encoded data removed]",
      "text/plain": [
       "<Figure size 576x432 with 2 Axes>"
      ]
     },
     "metadata": {
      "needs_background": "light"
     },
     "output_type": "display_data"
    }
   ],
   "source": [
    "# we plot the classification error for gini and entropy \n",
    "\n",
    "fig,axes = plt.subplots(1,2,figsize = (8,6))\n",
    "# when criterion = 'gini'\n",
    "axes[0].plot(tree_range,list1_trainc,'-.',label = 'train')\n",
    "axes[0].plot(tree_range,list1_testc, label = 'test')\n",
    "\n",
    "# when criterion = 'entropy'\n",
    "axes[1].plot(tree_range,list2_trainc,'-.',label = 'train' )\n",
    "axes[1].plot(tree_range,list2_testc,label = 'test')\n",
    "\n",
    "axes[0].set_xlabel('no of tree')\n",
    "axes[0].set_ylabel('classification error')\n",
    "axes[0].set_title('gini')\n",
    "axes[0].legend()\n",
    "\n",
    "axes[1].set_xlabel('no of tree')\n",
    "axes[1].set_ylabel('classification error')\n",
    "axes[1].set_title('entropy')\n",
    "axes[1].legend()\n",
    "plt.tight_layout()"
   ]
  },
  {
   "cell_type": "code",
   "execution_count": 23,
   "metadata": {},
   "outputs": [
    {
     "name": "stdout",
     "output_type": "stream",
     "text": [
      "For gini criterion and 'sqrt' spliting, minimum classification error = 0.0167, and no of trees = 89\n",
      "\n",
      "For entropy criterion and 'sqrt' spliting, minimum classification error = 0.0148, and no of trees = 46\n"
     ]
    }
   ],
   "source": [
    "# we find the exact value of the minimum classification error for test set and the corrsponding no of trees\n",
    "\n",
    "# for gini\n",
    "\n",
    "min_error1c = min(list1_testc)\n",
    "no_tree1 = list1_testc.index(min_error1c) + 1\n",
    "\n",
    "#for entropy\n",
    "min_error2c = min(list2_testc)\n",
    "no_tree2 = list2_testc.index(min_error2c)+1\n",
    "\n",
    "print(\"For gini criterion and 'sqrt' spliting, minimum classification error\\\n",
    " = %.4f, and no of trees = %d\"%(min_error1c,no_tree1))\n",
    "print(\"\\nFor entropy criterion and 'sqrt' spliting, minimum classification error\\\n",
    " = %.4f, and no of trees = %d\"%(min_error2c,no_tree2))"
   ]
  },
  {
   "cell_type": "code",
   "execution_count": 59,
   "metadata": {},
   "outputs": [],
   "source": [
    "# 2. Gini vs Entropy for 1 - 100 trees and 'log2' feature splitting.\n",
    "\n",
    "list1_trainc =  [] # this will contain list of train set classification errors for different no of trees and gini criterion\n",
    "list1_testc = [] # this will contain list of test set classification errors for different no of trees and gini criterion\n",
    "\n",
    "list2_trainc = [] # this will contain list of train set classification errors for different no of trees and entropy criterion\n",
    "list2_testc = [] # this will contain list of test set classification errors for different no of trees and entropy criterion\n",
    "\n",
    "tree_range = np.arange(1,100,1)\n",
    "for n_tree in tree_range:\n",
    "    clf = RandomForestClassifier(n_estimators=n_tree,criterion='gini',max_features=\"log2\",random_state=123)\n",
    "    clf.fit(X_train,y_train)\n",
    "    y_pred_train = clf.predict(X_train)\n",
    "    y_pred_test = clf.predict(X_test)\n",
    "    list1_trainc.append (1 - clf.score(X_train,y_train))\n",
    "    list1_testc.append (1 - clf.score(X_test,y_test))\n",
    "    \n",
    "for n_tree in tree_range:\n",
    "    clf = RandomForestClassifier(n_estimators=n_tree,criterion='entropy',max_features=\"log2\",random_state=123)\n",
    "    clf.fit(X_train,y_train)\n",
    "    y_pred_train = clf.predict(X_train)\n",
    "    y_pred_test = clf.predict(X_test)\n",
    "    list2_trainc.append (1 - clf.score(X_train,y_train))\n",
    "    list2_testc.append (1 - clf.score(X_test,y_test))"
   ]
  },
  {
   "cell_type": "code",
   "execution_count": 60,
   "metadata": {},
   "outputs": [
    {
     "data": {
      "image/png": "[encoded data removed]",
      "text/plain": [
       "<Figure size 576x432 with 2 Axes>"
      ]
     },
     "metadata": {
      "needs_background": "light"
     },
     "output_type": "display_data"
    }
   ],
   "source": [
    "# we plot the classification error for gini and entropy \n",
    "\n",
    "fig,axes = plt.subplots(1,2,figsize = (8,6))\n",
    "# when criterion = 'gini'\n",
    "axes[0].plot(tree_range,list1_trainc,'-.',label = 'train')\n",
    "axes[0].plot(tree_range,list1_testc, label = 'test')\n",
    "\n",
    "# when criterion = 'entropy'\n",
    "axes[1].plot(tree_range,list2_trainc,'-.',label = 'train' )\n",
    "axes[1].plot(tree_range,list2_testc,label = 'test')\n",
    "\n",
    "axes[0].set_xlabel('no of tree')\n",
    "axes[0].set_ylabel('classification error')\n",
    "axes[0].set_title('gini')\n",
    "axes[0].legend()\n",
    "\n",
    "axes[1].set_xlabel('no of tree')\n",
    "axes[1].set_ylabel('classification error')\n",
    "axes[1].set_title('entropy')\n",
    "axes[1].legend()\n",
    "plt.tight_layout()"
   ]
  },
  {
   "cell_type": "code",
   "execution_count": 61,
   "metadata": {},
   "outputs": [
    {
     "name": "stdout",
     "output_type": "stream",
     "text": [
      "For gini criterion and 'log2' spliting, minimum classification error = 0.0130, and no of trees = 87\n",
      "\n",
      "For entropy criterion and 'log2' spliting, minimum classification error = 0.0130, and no of trees = 61\n"
     ]
    }
   ],
   "source": [
    "# we find the exact value of the minimum classification error for test set and the corrsponding no of trees\n",
    "\n",
    "# for gini\n",
    "\n",
    "min_error1c = min(list1_testc)\n",
    "no_tree1 = list1_testc.index(min_error1c) + 1\n",
    "\n",
    "#for entropy\n",
    "min_error2c = min(list2_testc)\n",
    "no_tree2 = list2_testc.index(min_error2c)+1\n",
    "\n",
    "print(\"For gini criterion and 'log2' spliting, minimum classification error\\\n",
    " = %.4f, and no of trees = %d\"%(min_error1c,no_tree1))\n",
    "print(\"\\nFor entropy criterion and 'log2' spliting, minimum classification error\\\n",
    " = %.4f, and no of trees = %d\"%(min_error2c,no_tree2))"
   ]
  },
  {
   "cell_type": "code",
   "execution_count": 24,
   "metadata": {},
   "outputs": [],
   "source": [
    "#3. Gini vs Entropy for 1 - 100 trees and no feature splitting.\n",
    "\n",
    "list1_trainc =  [] # this will contain list of train set classification errors for different no of trees and gini criterion\n",
    "list1_testc = [] # this will contain list of test set classification errors for different no of trees and gini criterion\n",
    "\n",
    "list2_trainc = [] # this will contain list of train set classification errors for different no of trees and entropy criterion\n",
    "list2_testc = [] # this will contain list of test set classification errors for different no of trees and entropy criterion\n",
    "\n",
    "tree_range = np.arange(1,100,1)\n",
    "for n_tree in tree_range:\n",
    "    clf = RandomForestClassifier(n_estimators=n_tree,criterion='gini',max_features=None, random_state=123)\n",
    "    clf.fit(X_train,y_train)\n",
    "    y_pred_train = clf.predict(X_train)\n",
    "    y_pred_test = clf.predict(X_test)\n",
    "    list1_trainc.append (1 - clf.score(X_train,y_train))\n",
    "    list1_testc.append (1 - clf.score(X_test,y_test))\n",
    "    \n",
    "for n_tree in tree_range:\n",
    "    clf = RandomForestClassifier(n_estimators=n_tree,criterion='entropy',max_features=None,random_state=123)\n",
    "    clf.fit(X_train,y_train)\n",
    "    y_pred_train = clf.predict(X_train)\n",
    "    y_pred_test = clf.predict(X_test)\n",
    "    list2_trainc.append (1 - clf.score(X_train,y_train))\n",
    "    list2_testc.append (1 - clf.score(X_test,y_test))"
   ]
  },
  {
   "cell_type": "code",
   "execution_count": 25,
   "metadata": {},
   "outputs": [
    {
     "data": {
      "image/png": "[encoded data removed]",
      "text/plain": [
       "<Figure size 576x432 with 2 Axes>"
      ]
     },
     "metadata": {
      "needs_background": "light"
     },
     "output_type": "display_data"
    }
   ],
   "source": [
    "# we plot the classification error for gini and entropy \n",
    "\n",
    "fig,axes = plt.subplots(1,2,figsize = (8,6))\n",
    "# when criterion = 'gini'\n",
    "axes[0].plot(tree_range,list1_trainc,'-.',label = 'train')\n",
    "axes[0].plot(tree_range,list1_testc, label = 'test')\n",
    "\n",
    "# when criterion = 'entropy'\n",
    "axes[1].plot(tree_range,list2_trainc,'-.',label = 'train' )\n",
    "axes[1].plot(tree_range,list2_testc,label = 'test')\n",
    "\n",
    "axes[0].set_xlabel('no of tree')\n",
    "axes[0].set_ylabel('classification error')\n",
    "axes[0].set_title('gini')\n",
    "axes[0].legend()\n",
    "\n",
    "axes[1].set_xlabel('no of tree')\n",
    "axes[1].set_ylabel('classification error')\n",
    "axes[1].set_title('entropy')\n",
    "axes[1].legend()\n",
    "plt.tight_layout()"
   ]
  },
  {
   "cell_type": "code",
   "execution_count": 26,
   "metadata": {},
   "outputs": [
    {
     "name": "stdout",
     "output_type": "stream",
     "text": [
      "For gini criterion and 'no' spliting, minimum classification error = 0.0370, and no of trees = 11\n",
      "\n",
      "For entropy criterion and no spliting, minimum classification error = 0.0296, and no of trees = 81\n"
     ]
    }
   ],
   "source": [
    "# we find the exact value of the minimum classification error for test set and the corrsponding no of trees\n",
    "\n",
    "# for gini\n",
    "\n",
    "min_error1c = min(list1_testc)\n",
    "no_tree1 = list1_testc.index(min_error1c) + 1\n",
    "\n",
    "#for entropy\n",
    "min_error2c = min(list2_testc)\n",
    "no_tree2 = list2_testc.index(min_error2c)+1\n",
    "\n",
    "print(\"For gini criterion and 'no' spliting, minimum classification error\\\n",
    " = %.4f, and no of trees = %d\"%(min_error1c,no_tree1))\n",
    "print(\"\\nFor entropy criterion and no spliting, minimum classification error\\\n",
    " = %.4f, and no of trees = %d\"%(min_error2c,no_tree2))"
   ]
  },
  {
   "cell_type": "markdown",
   "metadata": {},
   "source": [
    "The maximum accuracy obtained is 98.7% and this partains to gini criterion and 'sqrt' feature splitting. To conclude, we do a gridsearch to find the optimum overall parameters using cross validationn."
   ]
  },
  {
   "cell_type": "code",
   "execution_count": 41,
   "metadata": {},
   "outputs": [
    {
     "name": "stdout",
     "output_type": "stream",
     "text": [
      "Fitting 3 folds for each of 594 candidates, totalling 1782 fits\n"
     ]
    },
    {
     "data": {
      "text/plain": [
       "GridSearchCV(cv=3, estimator=RandomForestClassifier(),\n",
       "             param_grid=[{'criterion': ['gini', 'entropy'],\n",
       "                          'max_features': ['log2', 'sqrt', 'auto'],\n",
       "                          'n_estimators': array([ 1,  2,  3,  4,  5,  6,  7,  8,  9, 10, 11, 12, 13, 14, 15, 16, 17,\n",
       "       18, 19, 20, 21, 22, 23, 24, 25, 26, 27, 28, 29, 30, 31, 32, 33, 34,\n",
       "       35, 36, 37, 38, 39, 40, 41, 42, 43, 44, 45, 46, 47, 48, 49, 50, 51,\n",
       "       52, 53, 54, 55, 56, 57, 58, 59, 60, 61, 62, 63, 64, 65, 66, 67, 68,\n",
       "       69, 70, 71, 72, 73, 74, 75, 76, 77, 78, 79, 80, 81, 82, 83, 84, 85,\n",
       "       86, 87, 88, 89, 90, 91, 92, 93, 94, 95, 96, 97, 98, 99])}],\n",
       "             scoring='accuracy', verbose=1)"
      ]
     },
     "execution_count": 41,
     "metadata": {},
     "output_type": "execute_result"
    }
   ],
   "source": [
    "# we implement a gridsearch for different no of trees, criterion and split method to find model with the best accuracy.\\\n",
    "#  We have a balanced dataset so accuracy is a good perfromance test.\n",
    "\n",
    "rfc = RandomForestClassifier()\n",
    "no_tree = np.arange(1,100,1)\n",
    "parameters = [\n",
    "    {'criterion':['gini','entropy'],'n_estimators':no_tree,'max_features':['log2','sqrt','auto']},\n",
    "]\n",
    "clf2 = GridSearchCV(estimator = rfc,param_grid=parameters,scoring='accuracy',cv= 3,verbose=1)\n",
    "clf2.fit(X_train,y_train)"
   ]
  },
  {
   "cell_type": "code",
   "execution_count": 42,
   "metadata": {},
   "outputs": [
    {
     "name": "stdout",
     "output_type": "stream",
     "text": [
      "Best random forest classifier model for our data is the entropy criterion with \n",
      "no of trees = 87\n",
      "split using log2.\n",
      "model accuarcy = 98.14814814814815%\n",
      "classification error = 1.8518518518518476%\n"
     ]
    }
   ],
   "source": [
    "# check best parameters for our model from gridsearch\n",
    "criterion = clf2.best_params_['criterion']\n",
    "n_estimator = clf2.best_params_['n_estimators']\n",
    "split = clf2.best_params_['max_features']\n",
    "best_accuracy = clf2.score(X_test,y_test)*100\n",
    "least_error = 100 - best_accuracy\n",
    "\n",
    "print(f'Best random forest classifier model for our data is the {criterion}\\\n",
    " criterion with \\nno of trees = {n_estimator}\\nsplit using {split}.\\nmodel accuarcy = {best_accuracy}%\\n\\\n",
    "classification error = {least_error}%')"
   ]
  },
  {
   "cell_type": "code",
   "execution_count": 43,
   "metadata": {},
   "outputs": [
    {
     "name": "stdout",
     "output_type": "stream",
     "text": [
      "              precision    recall  f1-score   support\n",
      "\n",
      "           0       1.00      1.00      1.00        54\n",
      "           1       1.00      0.98      0.99        56\n",
      "           2       1.00      1.00      1.00        53\n",
      "           3       0.96      1.00      0.98        53\n",
      "           4       0.98      1.00      0.99        53\n",
      "           5       0.96      0.98      0.97        54\n",
      "           6       0.98      0.98      0.98        54\n",
      "           7       0.96      0.96      0.96        54\n",
      "           8       0.98      0.96      0.97        53\n",
      "           9       0.98      0.95      0.96        56\n",
      "\n",
      "    accuracy                           0.98       540\n",
      "   macro avg       0.98      0.98      0.98       540\n",
      "weighted avg       0.98      0.98      0.98       540\n",
      "\n"
     ]
    },
    {
     "data": {
      "text/plain": [
       "<AxesSubplot:>"
      ]
     },
     "execution_count": 43,
     "metadata": {},
     "output_type": "execute_result"
    },
    {
     "data": {
      "image/png": "[encoded data removed]",
      "text/plain": [
       "<Figure size 504x504 with 2 Axes>"
      ]
     },
     "metadata": {
      "needs_background": "light"
     },
     "output_type": "display_data"
    }
   ],
   "source": [
    "#view the classification_report and confusion matrix\n",
    "plt.figure(figsize=(7,7))\n",
    "y_pred_test = clf2.predict(X_test)\n",
    "print(classification_report(y_pred_test,y_test))\n",
    "sns.heatmap(confusion_matrix(y_pred_test,y_test), annot = True)"
   ]
  },
  {
   "cell_type": "markdown",
   "metadata": {},
   "source": [
    "PIXEL IMPORTANCE BASED ON MEAN DECREASE IN IMPURITY\n",
    "\n",
    "In this section, we show the importance of the pixels in the image for the classification task"
   ]
  },
  {
   "cell_type": "code",
   "execution_count": 57,
   "metadata": {},
   "outputs": [
    {
     "data": {
      "text/plain": [
       "<matplotlib.colorbar.Colorbar at 0x1867c214fd0>"
      ]
     },
     "execution_count": 57,
     "metadata": {},
     "output_type": "execute_result"
    },
    {
     "data": {
      "image/png": "[encoded data removed]",
      "text/plain": [
       "<Figure size 288x288 with 2 Axes>"
      ]
     },
     "metadata": {
      "needs_background": "light"
     },
     "output_type": "display_data"
    }
   ],
   "source": [
    "rfc = RandomForestClassifier(n_estimators=87,criterion='entropy', max_features= 'log2')\n",
    "rfc.fit(X_train,y_train)\n",
    "img_shape = digits_data.images[0].shape\n",
    "\n",
    "importances = rfc.feature_importances_.reshape(img_shape)\n",
    "plt.matshow(importances, cmap=plt.cm.hot)\n",
    "plt.title(\"Pixel importances using impurity values\")\n",
    "plt.colorbar()"
   ]
  },
  {
   "cell_type": "code",
   "execution_count": 68,
   "metadata": {},
   "outputs": [
    {
     "data": {
      "image/png": "[encoded data removed]",
      "text/plain": [
       "<Figure size 720x720 with 2 Axes>"
      ]
     },
     "metadata": {
      "needs_background": "light"
     },
     "output_type": "display_data"
    },
    {
     "data": {
      "image/png": "[encoded data removed]",
      "text/plain": [
       "<Figure size 720x720 with 2 Axes>"
      ]
     },
     "metadata": {
      "needs_background": "light"
     },
     "output_type": "display_data"
    },
    {
     "data": {
      "image/png": "[encoded data removed]",
      "text/plain": [
       "<Figure size 720x720 with 2 Axes>"
      ]
     },
     "metadata": {
      "needs_background": "light"
     },
     "output_type": "display_data"
    },
    {
     "data": {
      "image/png": "[encoded data removed]",
      "text/plain": [
       "<Figure size 720x720 with 2 Axes>"
      ]
     },
     "metadata": {
      "needs_background": "light"
     },
     "output_type": "display_data"
    },
    {
     "data": {
      "image/png": "[encoded data removed]",
      "text/plain": [
       "<Figure size 720x720 with 2 Axes>"
      ]
     },
     "metadata": {
      "needs_background": "light"
     },
     "output_type": "display_data"
    }
   ],
   "source": [
    "#Pixel importance for few images\n",
    "\n",
    "for i in [0,15,45,85,105]:\n",
    "    fig,axes = plt.subplots(1,2, figsize = (10,10))\n",
    "    im_1 = digits_data.images[i]\n",
    "    imp_1 = importances*im_1\n",
    "    axes[0].matshow(im_1,cmap=plt.cm.hot)\n",
    "    axes[0].set_title('True Image')\n",
    "    axes[1].matshow(imp_1,cmap=plt.cm.hot)\n",
    "    axes[1].set_title('Model prediction')\n",
    "    plt.show()\n",
    "    continue\n"
   ]
  }
 ],
 "metadata": {
  "interpreter": {
   "hash": "c3191f3079a69eeee56b03e9574e98163ceba2a2e0ea61f662f9a5c15c84010f"
  },
  "kernelspec": {
   "display_name": "Python 3.9.7 ('base')",
   "language": "python",
   "name": "python3"
  },
  "language_info": {
   "codemirror_mode": {
    "name": "ipython",
    "version": 3
   },
   "file_extension": ".py",
   "mimetype": "text/x-python",
   "name": "python",
   "nbconvert_exporter": "python",
   "pygments_lexer": "ipython3",
   "version": "3.9.7"
  },
  "orig_nbformat": 4
 },
 "nbformat": 4,
 "nbformat_minor": 2
}
